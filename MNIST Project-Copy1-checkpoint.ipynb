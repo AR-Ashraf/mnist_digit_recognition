{
 "cells": [
  {
   "cell_type": "markdown",
   "id": "659784cf",
   "metadata": {},
   "source": [
    "# We will predict digits of MNIST dataset using KNN classifier "
   ]
  },
  {
   "cell_type": "markdown",
   "id": "d770872b",
   "metadata": {},
   "source": [
    "## Let's import necesssary libraries"
   ]
  },
  {
   "cell_type": "code",
   "execution_count": 29,
   "id": "63f4ffc3",
   "metadata": {},
   "outputs": [],
   "source": [
    "from sklearn.datasets import fetch_openml\n",
    "from sklearn.neighbors import KNeighborsClassifier\n",
    "import matplotlib\n",
    "import matplotlib.pyplot as plt\n",
    "from sklearn.model_selection import cross_val_score\n",
    "from sklearn.model_selection import cross_val_predict\n",
    "from sklearn.metrics import precision_score, recall_score, f1_score, confusion_matrix\n",
    "from sklearn.metrics import precision_recall_curve\n",
    "from sklearn.metrics import roc_curve\n",
    "from sklearn.preprocessing import StandardScaler\n",
    "from sklearn.model_selection import GridSearchCV\n",
    "from sklearn.metrics import accuracy_score\n",
    "\n",
    "#To plot fancy looking plots\n",
    "%matplotlib inline\n",
    "\n",
    "import sys\n",
    "assert sys.version_info >= (3, 5)\n",
    "\n",
    "# Scikit-Learn ≥0.20 is required\n",
    "import sklearn\n",
    "assert sklearn.__version__ >= \"0.20\"\n",
    "\n",
    "# Common imports\n",
    "import numpy as np\n",
    "import os\n",
    "\n",
    "# to make this notebook's output stable across runs\n",
    "np.random.seed(42)\n",
    "\n",
    "# To plot pretty figures\n",
    "matplotlib.rc('axes', labelsize=14)\n",
    "matplotlib.rc('xtick', labelsize=12)\n",
    "matplotlib.rc('ytick', labelsize=12)\n",
    "\n",
    "# Where to save the figures\n",
    "PROJECT_ROOT_DIR = \".\"\n",
    "CHAPTER_ID = \"MNIST\"\n",
    "IMAGES_PATH = os.path.join(PROJECT_ROOT_DIR, \"images\", CHAPTER_ID)\n",
    "os.makedirs(IMAGES_PATH, exist_ok=True)\n",
    "\n",
    "# custom function to save the images on which we are gonna work\n",
    "def save_fig(fig_id, tight_layout=True, fig_extension=\"png\", resolution=300):\n",
    "    path = os.path.join(IMAGES_PATH, fig_id + \".\" + fig_extension)\n",
    "    print(\"Saving figure\", fig_id)\n",
    "    if tight_layout:\n",
    "        plt.tight_layout()\n",
    "    plt.savefig(path, format=fig_extension, dpi=resolution)\n",
    "\n"
   ]
  },
  {
   "cell_type": "code",
   "execution_count": 8,
   "id": "a4ce1b0e",
   "metadata": {},
   "outputs": [],
   "source": [
    "# We have taken as_frame = False, so that we can work on numpy arrays. If we exclude this parameter then we will get a panda dataframe as the dataset. \n",
    "dataset = fetch_openml('mnist_784', version=1, as_frame=False) \n"
   ]
  },
  {
   "cell_type": "code",
   "execution_count": 9,
   "id": "9d7cda8c",
   "metadata": {},
   "outputs": [
    {
     "data": {
      "text/plain": [
       "dict_keys(['data', 'target', 'frame', 'categories', 'feature_names', 'target_names', 'DESCR', 'details', 'url'])"
      ]
     },
     "execution_count": 9,
     "metadata": {},
     "output_type": "execute_result"
    }
   ],
   "source": [
    "# Let's see what type of catagories we are gonna face from this dataset! If you are using the panda dataframe, then use head() instead of keys() \n",
    "dataset.keys()"
   ]
  },
  {
   "cell_type": "markdown",
   "id": "0afd111b",
   "metadata": {},
   "source": [
    "### Sk-learn gives us this dataset pre-modified. So we have a dataset where the sample set and label/target set are already classified and also shuffled!"
   ]
  },
  {
   "cell_type": "code",
   "execution_count": 10,
   "id": "4218f709",
   "metadata": {},
   "outputs": [
    {
     "data": {
      "text/plain": [
       "(70000, 784)"
      ]
     },
     "execution_count": 10,
     "metadata": {},
     "output_type": "execute_result"
    }
   ],
   "source": [
    "# data = Our sample data class\n",
    "# target = Our labels\n",
    "X,Y = dataset[\"data\"], dataset[\"target\"]\n",
    "X.shape"
   ]
  },
  {
   "cell_type": "code",
   "execution_count": 37,
   "id": "f4a8657b",
   "metadata": {},
   "outputs": [
    {
     "data": {
      "text/plain": [
       "(70000,)"
      ]
     },
     "execution_count": 37,
     "metadata": {},
     "output_type": "execute_result"
    }
   ],
   "source": [
    "Y.shape"
   ]
  },
  {
   "cell_type": "markdown",
   "id": "d93bcce3",
   "metadata": {},
   "source": [
    "### Our main aim is to detect the digits from the images. So this is a classification issue in the language of ML. We are break this code into 2 parts: 1) We are gonna select one image and train our model to detect that image correcly (This process is called Binary Classifier).  2) We are gonna consider the whole dataset to train our model and predict the digits. In both cases we are gonna use KNN algorithm."
   ]
  },
  {
   "cell_type": "code",
   "execution_count": 11,
   "id": "1fb60918",
   "metadata": {},
   "outputs": [
    {
     "name": "stdout",
     "output_type": "stream",
     "text": [
      "Saving figure target_digit_plot\n"
     ]
    },
    {
     "data": {
      "image/png": "[encoded data removed]",
      "text/plain": [
       "<Figure size 432x288 with 1 Axes>"
      ]
     },
     "metadata": {
      "needs_background": "light"
     },
     "output_type": "display_data"
    }
   ],
   "source": [
    "# Let's choose a random image from our sample set\n",
    "target_digit = X[5]\n",
    "target_digit_img = target_digit.reshape(28,28)  # We are reshaping this data so that it can be plotted as an image\n",
    "plt.imshow(target_digit_img, cmap = matplotlib.cm.binary, interpolation=\"nearest\")\n",
    "plt.axis(\"off\")\n",
    "save_fig(\"target_digit_plot\")\n",
    "plt.show()"
   ]
  },
  {
   "cell_type": "code",
   "execution_count": 46,
   "id": "e87b00d1",
   "metadata": {},
   "outputs": [
    {
     "data": {
      "text/plain": [
       "'2'"
      ]
     },
     "execution_count": 46,
     "metadata": {},
     "output_type": "execute_result"
    }
   ],
   "source": [
    "Y[5] # We can see that our labels are in the string format! But we will use integer format so that we can use these data for calculation afterward"
   ]
  },
  {
   "cell_type": "code",
   "execution_count": 12,
   "id": "1e400573",
   "metadata": {},
   "outputs": [
    {
     "data": {
      "text/plain": [
       "2"
      ]
     },
     "execution_count": 12,
     "metadata": {},
     "output_type": "execute_result"
    }
   ],
   "source": [
    "Y = Y.astype(np.uint8)   # Converting strings to integers\n",
    "Y[5]"
   ]
  },
  {
   "cell_type": "code",
   "execution_count": 13,
   "id": "a3af1348",
   "metadata": {},
   "outputs": [],
   "source": [
    "# SK-learn gives us this set with predefined train and test set! The first 60000 data is for training purpose and rest are for testing purpose. If you want to use change this ratio then you can do that. But that might hamper your model training.\n",
    "X_train, X_test, y_train, y_test = X[:60000], X[60000:], Y[:60000], Y[60000:]   "
   ]
  },
  {
   "cell_type": "code",
   "execution_count": 14,
   "id": "e238f7ac",
   "metadata": {},
   "outputs": [],
   "source": [
    "y_train_2 = (y_train == 2)  # We are taking our target label for both train and test set for now\n",
    "y_test_2 = (y_test == 2)"
   ]
  },
  {
   "cell_type": "code",
   "execution_count": 15,
   "id": "a37ddc4c",
   "metadata": {},
   "outputs": [
    {
     "data": {
      "text/plain": [
       "KNeighborsClassifier(n_neighbors=3)"
      ]
     },
     "execution_count": 15,
     "metadata": {},
     "output_type": "execute_result"
    }
   ],
   "source": [
    "knn_classifier = KNeighborsClassifier(n_neighbors=3)\n",
    "knn_classifier.fit(X_train, y_train_2)"
   ]
  },
  {
   "cell_type": "code",
   "execution_count": 16,
   "id": "b14183f2",
   "metadata": {},
   "outputs": [
    {
     "data": {
      "text/plain": [
       "array([ True])"
      ]
     },
     "execution_count": 16,
     "metadata": {},
     "output_type": "execute_result"
    }
   ],
   "source": [
    "knn_classifier.predict([target_digit]) "
   ]
  },
  {
   "cell_type": "code",
   "execution_count": 17,
   "id": "479754b0",
   "metadata": {},
   "outputs": [
    {
     "data": {
      "text/plain": [
       "array([0.99415, 0.99495, 0.9943 ])"
      ]
     },
     "execution_count": 17,
     "metadata": {},
     "output_type": "execute_result"
    }
   ],
   "source": [
    "# We can see that our model could predict correctly! But we will run some evaluation tests for assurance\n",
    "# We will now apply the cross validation test and find out the accuracy of our model for 3 consecutive validations\n",
    "cross_val_score(knn_classifier, X_train, y_train_2, cv=3, scoring=\"accuracy\")"
   ]
  },
  {
   "cell_type": "code",
   "execution_count": 59,
   "id": "43b8b60b",
   "metadata": {},
   "outputs": [],
   "source": [
    "# Our accuracy is really good. But this is not good in the sense of ML. We might have overfitted our model. Let's check the confusion matrix to find out the model predictions precisely. \n",
    "y_train_prediction = cross_val_predict(knn_classifier, X_train, y_train_2, cv=3)"
   ]
  },
  {
   "cell_type": "code",
   "execution_count": 61,
   "id": "f09d0d55",
   "metadata": {},
   "outputs": [
    {
     "data": {
      "text/plain": [
       "array([[53979,    63],\n",
       "       [  269,  5689]], dtype=int64)"
      ]
     },
     "execution_count": 61,
     "metadata": {},
     "output_type": "execute_result"
    }
   ],
   "source": [
    "confusion_matrix(y_train_2,y_train_prediction)"
   ]
  },
  {
   "cell_type": "code",
   "execution_count": 62,
   "id": "382f7315",
   "metadata": {},
   "outputs": [
    {
     "data": {
      "text/plain": [
       "0.989047287899861"
      ]
     },
     "execution_count": 62,
     "metadata": {},
     "output_type": "execute_result"
    }
   ],
   "source": [
    "precision_score(y_train_2,y_train_prediction)"
   ]
  },
  {
   "cell_type": "code",
   "execution_count": 63,
   "id": "b340aa5a",
   "metadata": {},
   "outputs": [
    {
     "data": {
      "text/plain": [
       "0.9548506210137631"
      ]
     },
     "execution_count": 63,
     "metadata": {},
     "output_type": "execute_result"
    }
   ],
   "source": [
    "recall_score(y_train_2,y_train_prediction)"
   ]
  },
  {
   "cell_type": "code",
   "execution_count": 64,
   "id": "92092512",
   "metadata": {},
   "outputs": [
    {
     "data": {
      "text/plain": [
       "0.9716481639624253"
      ]
     },
     "execution_count": 64,
     "metadata": {},
     "output_type": "execute_result"
    }
   ],
   "source": [
    "f1_score(y_train_2,y_train_prediction)"
   ]
  },
  {
   "cell_type": "code",
   "execution_count": 71,
   "id": "11cd6205",
   "metadata": {},
   "outputs": [],
   "source": [
    "# So our confusion matrices gave pretty good scores till now. It means we are on the right track. Seeing these scores, we can directly say that our model is doing good for this particular image. But for the sake of investigation, we will draw the ROC curve to find out the relation between True positive rates and False positive rates.\n",
    "\n",
    "y_knn_predictions = cross_val_predict(knn_classifier, X_train, y_train_2, cv=3,\n",
    "method=\"predict_proba\")\n",
    "# We have used the method predict proba to get the predicted scores of our training set. It is required for drawing the ROC Curve."
   ]
  },
  {
   "cell_type": "code",
   "execution_count": 72,
   "id": "5acbe9ba",
   "metadata": {},
   "outputs": [
    {
     "data": {
      "text/plain": [
       "(60000, 2)"
      ]
     },
     "execution_count": 72,
     "metadata": {},
     "output_type": "execute_result"
    }
   ],
   "source": [
    "y_knn_predictions.shape\n",
    "# We can see that it is a 2D data. But we can only use a 1D data for the curve!"
   ]
  },
  {
   "cell_type": "code",
   "execution_count": 73,
   "id": "b1b54897",
   "metadata": {},
   "outputs": [],
   "source": [
    "y_scores = y_knn_predictions[:, 1] # So we are taking only the 1st column of the predicted scores"
   ]
  },
  {
   "cell_type": "code",
   "execution_count": 89,
   "id": "1366300d",
   "metadata": {},
   "outputs": [],
   "source": [
    "fpr, tpr, thresholds = roc_curve(y_train_2, y_scores)"
   ]
  },
  {
   "cell_type": "code",
   "execution_count": 90,
   "id": "763cf78f",
   "metadata": {},
   "outputs": [
    {
     "name": "stdout",
     "output_type": "stream",
     "text": [
      "Saving figure roc_curve_plot\n"
     ]
    },
    {
     "data": {
      "image/png": "[encoded data removed]",
      "text/plain": [
       "<Figure size 576x432 with 1 Axes>"
      ]
     },
     "metadata": {
      "needs_background": "light"
     },
     "output_type": "display_data"
    }
   ],
   "source": [
    "# Let's draw a fancy function for drawing a fancy looking ROC Curve\n",
    "\n",
    "def plot_roc_curve(fpr, tpr, label=None):\n",
    "    plt.plot(fpr, tpr, linewidth=2, label=label)\n",
    "    plt.plot([0, 1], [0, 1], 'k--') # dashed diagonal\n",
    "    plt.axis([0, 1, 0, 1])                                    # Not shown in the book\n",
    "    plt.xlabel('False Positive Rate (Fall-Out)', fontsize=16) # Not shown\n",
    "    plt.ylabel('True Positive Rate (Recall)', fontsize=16)    # Not shown\n",
    "    plt.grid(True)                                            # Not shown\n",
    "\n",
    "plt.figure(figsize=(8, 6))                                    # Not shown\n",
    "plot_roc_curve(fpr, tpr)\n",
    "fpr_90 = fpr[np.argmax(tpr >= recall_90_precision)]           # Not shown\n",
    "plt.plot([fpr_90, fpr_90], [0., recall_90_precision], \"r:\")   # Not shown\n",
    "plt.plot([0.0, fpr_90], [recall_90_precision, recall_90_precision], \"r:\")  # Not shown\n",
    "plt.plot([fpr_90], [recall_90_precision], \"ro\")               # Not shown\n",
    "save_fig(\"roc_curve_plot\")                                    # Not shown\n",
    "plt.show()\n",
    "# Till now it is good enough. As we are using KNN classifier, this graph is not important for our model training. Because ROC curve is used to determine the threshold of a binary classifier or for plotting two different curves of two different algorithms and determine which is better using the AUC."
   ]
  },
  {
   "cell_type": "markdown",
   "id": "7dc506c9",
   "metadata": {},
   "source": [
    "### Now we will take first 1000 image set to train our model and predict the digits"
   ]
  },
  {
   "cell_type": "code",
   "execution_count": 91,
   "id": "73df31b8",
   "metadata": {},
   "outputs": [
    {
     "data": {
      "text/plain": [
       "array([2], dtype=uint8)"
      ]
     },
     "execution_count": 91,
     "metadata": {},
     "output_type": "execute_result"
    }
   ],
   "source": [
    "\n",
    "knn_classifier.fit(X_train[:1000], y_train[:1000])\n",
    "knn_classifier.predict([target_digit])"
   ]
  },
  {
   "cell_type": "code",
   "execution_count": 93,
   "id": "e12781ed",
   "metadata": {},
   "outputs": [
    {
     "data": {
      "text/plain": [
       "array([[0.        , 0.        , 0.66666667, 0.        , 0.        ,\n",
       "        0.33333333, 0.        , 0.        , 0.        , 0.        ]])"
      ]
     },
     "execution_count": 93,
     "metadata": {},
     "output_type": "execute_result"
    }
   ],
   "source": [
    "# Our model predicts correctly! But still we will go for cross validation just like we did before.\n",
    "target_digit_scores = knn_classifier.predict_proba([target_digit]) # We are taking the prediction score for out target label\n",
    "target_digit_scores"
   ]
  },
  {
   "cell_type": "code",
   "execution_count": 19,
   "id": "e3e4e4ba",
   "metadata": {},
   "outputs": [
    {
     "data": {
      "text/plain": [
       "[array([0.969  , 0.96805, 0.9675 ])]"
      ]
     },
     "execution_count": 19,
     "metadata": {},
     "output_type": "execute_result"
    }
   ],
   "source": [
    "\n",
    "cross_val_score(knn_classifier, X_train, y_train, cv=3, scoring=\"accuracy\")\n"
   ]
  },
  {
   "cell_type": "code",
   "execution_count": 96,
   "id": "facb3e45",
   "metadata": {},
   "outputs": [
    {
     "data": {
      "text/plain": [
       "array([0.93755, 0.9406 , 0.94085])"
      ]
     },
     "execution_count": 96,
     "metadata": {},
     "output_type": "execute_result"
    }
   ],
   "source": [
    "# We can see that out prediction is 96% accurate on an average!\n",
    "# We will now scale our data so that we can avoid any unnecessary fitting error\n",
    "scaler = StandardScaler()\n",
    "X_train_scaled = scaler.fit_transform(X_train.astype(np.float64))\n",
    "cross_val_score(knn_classifier, X_train_scaled, y_train, cv=3, scoring=\"accuracy\")"
   ]
  },
  {
   "cell_type": "code",
   "execution_count": 97,
   "id": "675387f6",
   "metadata": {},
   "outputs": [
    {
     "data": {
      "text/plain": [
       "array([[5830,    4,   16,    5,    0,   19,   41,    3,    2,    3],\n",
       "       [   2, 6674,   17,   10,    9,    2,   13,    7,    6,    2],\n",
       "       [  77,   67, 5547,   88,   30,    9,   46,   44,   30,   20],\n",
       "       [  24,   29,   76, 5749,    5,   92,    6,   62,   60,   28],\n",
       "       [   9,   69,   50,    7, 5425,   11,   23,   32,   11,  205],\n",
       "       [  36,   20,   20,  184,   15, 4969,   83,   12,   41,   41],\n",
       "       [  72,   15,   15,    7,   13,   55, 5735,    1,    5,    0],\n",
       "       [  12,   63,   37,   15,   76,    2,    0, 5839,    4,  217],\n",
       "       [  65,   88,   58,  137,   62,  188,   27,   17, 5146,   63],\n",
       "       [  21,   14,   25,   54,  124,   15,    1,  217,   12, 5466]],\n",
       "      dtype=int64)"
      ]
     },
     "execution_count": 97,
     "metadata": {},
     "output_type": "execute_result"
    }
   ],
   "source": [
    "# We can see that our prediction accuracy has decreased to 93% now. So we will check the confusion matrix\n",
    "y_train_pred = cross_val_predict(knn_classifier, X_train_scaled, y_train, cv=3)\n",
    "conf_mx = confusion_matrix(y_train, y_train_pred)\n",
    "conf_mx"
   ]
  },
  {
   "cell_type": "code",
   "execution_count": 98,
   "id": "dd0d05f9",
   "metadata": {},
   "outputs": [
    {
     "name": "stdout",
     "output_type": "stream",
     "text": [
      "Saving figure confusion_matrix_plot\n"
     ]
    },
    {
     "data": {
      "image/png": "[encoded data removed]",
      "text/plain": [
       "<Figure size 288x288 with 1 Axes>"
      ]
     },
     "metadata": {
      "needs_background": "light"
     },
     "output_type": "display_data"
    }
   ],
   "source": [
    "# This is a big array! Let's just plot a graph for better visualization\n",
    "plt.matshow(conf_mx, cmap=plt.cm.gray)\n",
    "save_fig(\"confusion_matrix_plot\", tight_layout=False)\n",
    "plt.show()"
   ]
  },
  {
   "cell_type": "code",
   "execution_count": 100,
   "id": "ead5c9c7",
   "metadata": {},
   "outputs": [
    {
     "name": "stdout",
     "output_type": "stream",
     "text": [
      "Fitting 5 folds for each of 6 candidates, totalling 30 fits\n",
      "[CV 1/5] END .................n_neighbors=3, weights=uniform; total time=  46.1s\n",
      "[CV 2/5] END .................n_neighbors=3, weights=uniform; total time=  43.8s\n",
      "[CV 3/5] END .................n_neighbors=3, weights=uniform; total time=  45.0s\n",
      "[CV 4/5] END .................n_neighbors=3, weights=uniform; total time=  44.0s\n",
      "[CV 5/5] END .................n_neighbors=3, weights=uniform; total time=  42.9s\n",
      "[CV 1/5] END ................n_neighbors=3, weights=distance; total time=  42.9s\n",
      "[CV 2/5] END ................n_neighbors=3, weights=distance; total time=  43.6s\n",
      "[CV 3/5] END ................n_neighbors=3, weights=distance; total time=  42.3s\n",
      "[CV 4/5] END ................n_neighbors=3, weights=distance; total time=  41.6s\n",
      "[CV 5/5] END ................n_neighbors=3, weights=distance; total time=  41.7s\n",
      "[CV 1/5] END .................n_neighbors=4, weights=uniform; total time=  51.3s\n",
      "[CV 2/5] END .................n_neighbors=4, weights=uniform; total time=  48.2s\n",
      "[CV 3/5] END .................n_neighbors=4, weights=uniform; total time=  36.5s\n",
      "[CV 4/5] END .................n_neighbors=4, weights=uniform; total time=  37.7s\n",
      "[CV 5/5] END .................n_neighbors=4, weights=uniform; total time=  37.5s\n",
      "[CV 1/5] END ................n_neighbors=4, weights=distance; total time=  35.8s\n",
      "[CV 2/5] END ................n_neighbors=4, weights=distance; total time=  36.4s\n",
      "[CV 3/5] END ................n_neighbors=4, weights=distance; total time=  35.7s\n",
      "[CV 4/5] END ................n_neighbors=4, weights=distance; total time=  36.8s\n",
      "[CV 5/5] END ................n_neighbors=4, weights=distance; total time=  36.9s\n",
      "[CV 1/5] END .................n_neighbors=5, weights=uniform; total time=  36.7s\n",
      "[CV 2/5] END .................n_neighbors=5, weights=uniform; total time=  36.8s\n",
      "[CV 3/5] END .................n_neighbors=5, weights=uniform; total time=  36.1s\n",
      "[CV 4/5] END .................n_neighbors=5, weights=uniform; total time=  37.2s\n",
      "[CV 5/5] END .................n_neighbors=5, weights=uniform; total time=  37.5s\n",
      "[CV 1/5] END ................n_neighbors=5, weights=distance; total time=  35.9s\n",
      "[CV 2/5] END ................n_neighbors=5, weights=distance; total time=  36.3s\n",
      "[CV 3/5] END ................n_neighbors=5, weights=distance; total time=  35.6s\n",
      "[CV 4/5] END ................n_neighbors=5, weights=distance; total time=  36.5s\n",
      "[CV 5/5] END ................n_neighbors=5, weights=distance; total time=  37.5s\n"
     ]
    },
    {
     "data": {
      "text/plain": [
       "GridSearchCV(cv=5, estimator=KNeighborsClassifier(n_neighbors=3),\n",
       "             param_grid=[{'n_neighbors': [3, 4, 5],\n",
       "                          'weights': ['uniform', 'distance']}],\n",
       "             verbose=3)"
      ]
     },
     "execution_count": 100,
     "metadata": {},
     "output_type": "execute_result"
    }
   ],
   "source": [
    "# Great! Our prediction looks good. \n",
    "# For increasing the accuracy we are gonna work on the hyperparameters of KNN now. We are use Grid Search to determine the best params of KNN for this model.\n",
    "param_grid = [{'weights': [\"uniform\", \"distance\"], 'n_neighbors': [3, 4, 5]}]\n",
    "grid_search = GridSearchCV(knn_classifier, param_grid, cv=5, verbose=3)\n",
    "grid_search.fit(X_train, y_train)"
   ]
  },
  {
   "cell_type": "code",
   "execution_count": 101,
   "id": "66e38beb",
   "metadata": {},
   "outputs": [
    {
     "data": {
      "text/plain": [
       "{'n_neighbors': 4, 'weights': 'distance'}"
      ]
     },
     "execution_count": 101,
     "metadata": {},
     "output_type": "execute_result"
    }
   ],
   "source": [
    "grid_search.best_params_"
   ]
  },
  {
   "cell_type": "code",
   "execution_count": 103,
   "id": "6833b25f",
   "metadata": {},
   "outputs": [
    {
     "data": {
      "text/plain": [
       "0.9714"
      ]
     },
     "execution_count": 103,
     "metadata": {},
     "output_type": "execute_result"
    }
   ],
   "source": [
    "y_pred = grid_search.predict(X_test)\n",
    "accuracy_score(y_test, y_pred)"
   ]
  },
  {
   "cell_type": "code",
   "execution_count": 26,
   "id": "9d753151",
   "metadata": {},
   "outputs": [],
   "source": [
    "# Great! Now we have an accuracy level of 97%, with scaled data and standard precision and recall scores. But as we are machine learning engineers, automation always suits us, Right?\n",
    "# To give our training a fancy outlook, now we will go for automating this project.\n",
    "\n",
    "def mnist_knn_pipeline( dataset_sample, dataset_label, target_digit_pos, cross_valid = False):\n",
    "    X,Y = dataset_sample, dataset_label\n",
    "    target_digit = X[target_digit_pos]\n",
    "    target_digit_img = target_digit.reshape(28,28)  \n",
    "    plt.imshow(target_digit_img, cmap = matplotlib.cm.binary, interpolation=\"nearest\")\n",
    "    plt.axis(\"off\")\n",
    "    save_fig(\"target_digit_plot\")\n",
    "    plt.show()\n",
    "    \n",
    "    X_train, X_test, y_train, y_test = X[:60000], X[60000:], Y[:60000], Y[60000:]   \n",
    "    \n",
    "    knn_classifier = KNeighborsClassifier(n_neighbors=3)\n",
    "    knn_classifier.fit(X_train[:1000], y_train[:1000])\n",
    "    \n",
    "    if (cross_valid == True):\n",
    "        \n",
    "        cross_valid_score = cross_val_score(knn_classifier, X_train, y_train, cv=3, scoring=\"accuracy\")\n",
    "        for c in cross_valid_score:\n",
    "            if (c > 90 ):\n",
    "                scaler = StandardScaler()\n",
    "                X_train = scaler.fit_transform(X_train.astype(np.float64))\n",
    "                cross_valid_score = cross_val_score(knn_classifier, X_train_scaled, y_train, cv=3, scoring=\"accuracy\")\n",
    "                break\n",
    "    \n",
    "    \n",
    "    \n",
    "    y_train_pred = cross_val_predict(knn_classifier, X_train, y_train, cv=3)\n",
    "    conf_mx = confusion_matrix(y_train, y_train_pred)\n",
    "    conf_mx\n",
    "    \n",
    "    plt.matshow(conf_mx, cmap=plt.cm.gray)\n",
    "    save_fig(\"confusion_matrix_plot\", tight_layout=False)\n",
    "    print(\"Confusion Matrix Plot\")\n",
    "    plt.show()\n",
    "    \n",
    "    param_grid = [{'weights': [\"uniform\", \"distance\"], 'n_neighbors': [3, 4, 5]}]\n",
    "    grid_search = GridSearchCV(knn_classifier, param_grid, cv=5, verbose=3)\n",
    "    grid_search.fit(X_train, y_train)\n",
    "    \n",
    "    grid_search_best_params = grid_search.best_params_\n",
    "    y_pred = grid_search.predict(X_test)\n",
    "    target_predict = grid_search.predict([target_digit])\n",
    "    acc_score = accuracy_score(y_test, y_pred)\n",
    "    \n",
    "    result = {\"Predicted Digit: \": target_predict, \"Accuracy: \": acc_score, \"Cross Validation Score: \": cross_valid_score}\n",
    "    \n",
    "    return result\n"
   ]
  },
  {
   "cell_type": "code",
   "execution_count": 27,
   "id": "c3123c67",
   "metadata": {},
   "outputs": [
    {
     "name": "stdout",
     "output_type": "stream",
     "text": [
      "Saving figure target_digit_plot\n"
     ]
    },
    {
     "data": {
      "image/png": "[encoded data removed]",
      "text/plain": [
       "<Figure size 432x288 with 1 Axes>"
      ]
     },
     "metadata": {
      "needs_background": "light"
     },
     "output_type": "display_data"
    },
    {
     "name": "stdout",
     "output_type": "stream",
     "text": [
      "Saving figure confusion_matrix_plot\n",
      "Confusion Matrix Plot\n"
     ]
    },
    {
     "data": {
      "image/png": "[encoded data removed]",
      "text/plain": [
       "<Figure size 288x288 with 1 Axes>"
      ]
     },
     "metadata": {
      "needs_background": "light"
     },
     "output_type": "display_data"
    },
    {
     "name": "stdout",
     "output_type": "stream",
     "text": [
      "Fitting 5 folds for each of 6 candidates, totalling 30 fits\n",
      "[CV 1/5] END .................n_neighbors=3, weights=uniform; total time=  31.5s\n",
      "[CV 2/5] END .................n_neighbors=3, weights=uniform; total time=  33.7s\n",
      "[CV 3/5] END .................n_neighbors=3, weights=uniform; total time=  34.2s\n",
      "[CV 4/5] END .................n_neighbors=3, weights=uniform; total time=  34.6s\n",
      "[CV 5/5] END .................n_neighbors=3, weights=uniform; total time=  34.1s\n",
      "[CV 1/5] END ................n_neighbors=3, weights=distance; total time=  32.9s\n",
      "[CV 2/5] END ................n_neighbors=3, weights=distance; total time=  36.0s\n",
      "[CV 3/5] END ................n_neighbors=3, weights=distance; total time=  34.0s\n",
      "[CV 4/5] END ................n_neighbors=3, weights=distance; total time=  30.3s\n",
      "[CV 5/5] END ................n_neighbors=3, weights=distance; total time=  31.2s\n",
      "[CV 1/5] END .................n_neighbors=4, weights=uniform; total time=  40.3s\n",
      "[CV 2/5] END .................n_neighbors=4, weights=uniform; total time=  46.4s\n",
      "[CV 3/5] END .................n_neighbors=4, weights=uniform; total time=  39.2s\n",
      "[CV 4/5] END .................n_neighbors=4, weights=uniform; total time=  40.0s\n",
      "[CV 5/5] END .................n_neighbors=4, weights=uniform; total time=  40.2s\n",
      "[CV 1/5] END ................n_neighbors=4, weights=distance; total time=  39.1s\n",
      "[CV 2/5] END ................n_neighbors=4, weights=distance; total time=  40.3s\n",
      "[CV 3/5] END ................n_neighbors=4, weights=distance; total time=  38.8s\n",
      "[CV 4/5] END ................n_neighbors=4, weights=distance; total time=  39.3s\n",
      "[CV 5/5] END ................n_neighbors=4, weights=distance; total time=  39.8s\n",
      "[CV 1/5] END .................n_neighbors=5, weights=uniform; total time=  39.2s\n",
      "[CV 2/5] END .................n_neighbors=5, weights=uniform; total time=  40.0s\n",
      "[CV 3/5] END .................n_neighbors=5, weights=uniform; total time=  39.4s\n",
      "[CV 4/5] END .................n_neighbors=5, weights=uniform; total time=  42.0s\n",
      "[CV 5/5] END .................n_neighbors=5, weights=uniform; total time=  40.5s\n",
      "[CV 1/5] END ................n_neighbors=5, weights=distance; total time=  39.6s\n",
      "[CV 2/5] END ................n_neighbors=5, weights=distance; total time=  38.6s\n",
      "[CV 3/5] END ................n_neighbors=5, weights=distance; total time=  37.8s\n",
      "[CV 4/5] END ................n_neighbors=5, weights=distance; total time=  39.5s\n",
      "[CV 5/5] END ................n_neighbors=5, weights=distance; total time=  39.7s\n"
     ]
    },
    {
     "data": {
      "text/plain": [
       "{'Predicted Digit: ': array(['2'], dtype=object),\n",
       " 'Accuracy: ': 0.9714,\n",
       " 'Cross Validation Score: ': array([0.969  , 0.96805, 0.9675 ])}"
      ]
     },
     "execution_count": 27,
     "metadata": {},
     "output_type": "execute_result"
    }
   ],
   "source": [
    "Result = mnist_knn_pipeline(dataset[\"data\"], dataset[\"target\"], 5, cross_valid = True)\n",
    "Result"
   ]
  },
  {
   "cell_type": "code",
   "execution_count": null,
   "id": "750e3245",
   "metadata": {},
   "outputs": [],
   "source": []
  }
 ],
 "metadata": {
  "kernelspec": {
   "display_name": "Python 3",
   "language": "python",
   "name": "python3"
  },
  "language_info": {
   "codemirror_mode": {
    "name": "ipython",
    "version": 3
   },
   "file_extension": ".py",
   "mimetype": "text/x-python",
   "name": "python",
   "nbconvert_exporter": "python",
   "pygments_lexer": "ipython3",
   "version": "3.9.1"
  }
 },
 "nbformat": 4,
 "nbformat_minor": 5
}
